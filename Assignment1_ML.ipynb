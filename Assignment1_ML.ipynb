{
  "nbformat": 4,
  "nbformat_minor": 0,
  "metadata": {
    "colab": {
      "provenance": [],
      "mount_file_id": "1BwtJYHMRHKafkDvRSDemszrH52f8OzId",
      "authorship_tag": "ABX9TyNqCNagYpiNSg2JKXOtkJEZ",
      "include_colab_link": true
    },
    "kernelspec": {
      "name": "python3",
      "display_name": "Python 3"
    },
    "language_info": {
      "name": "python"
    }
  },
  "cells": [
    {
      "cell_type": "markdown",
      "metadata": {
        "id": "view-in-github",
        "colab_type": "text"
      },
      "source": [
        "<a href=\"https://colab.research.google.com/github/Priya-Samanta/Machine-Learning/blob/main/Assignment1_ML.ipynb\" target=\"_parent\"><img src=\"https://colab.research.google.com/assets/colab-badge.svg\" alt=\"Open In Colab\"/></a>"
      ]
    },
    {
      "cell_type": "markdown",
      "source": [
        "# Name - Priya Samanta\n",
        "# Enrollment ID - 2021CSB035"
      ],
      "metadata": {
        "id": "ANDpjNt8Aq8f"
      }
    },
    {
      "cell_type": "markdown",
      "source": [
        "# Assignment - 1"
      ],
      "metadata": {
        "id": "qsCT72IEBJDS"
      }
    },
    {
      "cell_type": "code",
      "execution_count": 1,
      "metadata": {
        "id": "cJe2GPaFMDds"
      },
      "outputs": [],
      "source": [
        "import pandas as pd\n",
        "import numpy as np\n",
        "from sklearn.model_selection import StratifiedKFold\n",
        "from sklearn.impute import SimpleImputer\n",
        "from sklearn.linear_model import LinearRegression\n",
        "import matplotlib.pyplot as plt"
      ]
    },
    {
      "cell_type": "markdown",
      "source": [
        "(ii) Read the dataset in the Pandas data frame. Estimate the missing values with any technique of your choice. Divide the dataset into two sets using stratified k-fold cross validation technique entitled to train and test set respectively."
      ],
      "metadata": {
        "id": "9Zb09Yo5K4Zh"
      }
    },
    {
      "cell_type": "markdown",
      "source": [
        "### Reading Dataset"
      ],
      "metadata": {
        "id": "wzcXMCatB2U-"
      }
    },
    {
      "cell_type": "code",
      "source": [
        "df = pd.read_csv(\"/content/drive/MyDrive/train.csv\")\n",
        "df"
      ],
      "metadata": {
        "colab": {
          "base_uri": "https://localhost:8080/",
          "height": 443
        },
        "id": "Zd6BQHL7NCgr",
        "outputId": "47beb9f2-70f4-4ddf-cd84-4f9a4e148df6"
      },
      "execution_count": 3,
      "outputs": [
        {
          "output_type": "execute_result",
          "data": {
            "text/plain": [
              "        Id  MSSubClass MSZoning  LotFrontage  LotArea Street Alley LotShape  \\\n",
              "0        1          60       RL         65.0     8450   Pave   NaN      Reg   \n",
              "1        2          20       RL         80.0     9600   Pave   NaN      Reg   \n",
              "2        3          60       RL         68.0    11250   Pave   NaN      IR1   \n",
              "3        4          70       RL         60.0     9550   Pave   NaN      IR1   \n",
              "4        5          60       RL         84.0    14260   Pave   NaN      IR1   \n",
              "...    ...         ...      ...          ...      ...    ...   ...      ...   \n",
              "1455  1456          60       RL         62.0     7917   Pave   NaN      Reg   \n",
              "1456  1457          20       RL         85.0    13175   Pave   NaN      Reg   \n",
              "1457  1458          70       RL         66.0     9042   Pave   NaN      Reg   \n",
              "1458  1459          20       RL         68.0     9717   Pave   NaN      Reg   \n",
              "1459  1460          20       RL         75.0     9937   Pave   NaN      Reg   \n",
              "\n",
              "     LandContour Utilities  ... PoolArea PoolQC  Fence MiscFeature MiscVal  \\\n",
              "0            Lvl    AllPub  ...        0    NaN    NaN         NaN       0   \n",
              "1            Lvl    AllPub  ...        0    NaN    NaN         NaN       0   \n",
              "2            Lvl    AllPub  ...        0    NaN    NaN         NaN       0   \n",
              "3            Lvl    AllPub  ...        0    NaN    NaN         NaN       0   \n",
              "4            Lvl    AllPub  ...        0    NaN    NaN         NaN       0   \n",
              "...          ...       ...  ...      ...    ...    ...         ...     ...   \n",
              "1455         Lvl    AllPub  ...        0    NaN    NaN         NaN       0   \n",
              "1456         Lvl    AllPub  ...        0    NaN  MnPrv         NaN       0   \n",
              "1457         Lvl    AllPub  ...        0    NaN  GdPrv        Shed    2500   \n",
              "1458         Lvl    AllPub  ...        0    NaN    NaN         NaN       0   \n",
              "1459         Lvl    AllPub  ...        0    NaN    NaN         NaN       0   \n",
              "\n",
              "     MoSold YrSold  SaleType  SaleCondition  SalePrice  \n",
              "0         2   2008        WD         Normal     208500  \n",
              "1         5   2007        WD         Normal     181500  \n",
              "2         9   2008        WD         Normal     223500  \n",
              "3         2   2006        WD        Abnorml     140000  \n",
              "4        12   2008        WD         Normal     250000  \n",
              "...     ...    ...       ...            ...        ...  \n",
              "1455      8   2007        WD         Normal     175000  \n",
              "1456      2   2010        WD         Normal     210000  \n",
              "1457      5   2010        WD         Normal     266500  \n",
              "1458      4   2010        WD         Normal     142125  \n",
              "1459      6   2008        WD         Normal     147500  \n",
              "\n",
              "[1460 rows x 81 columns]"
            ],
            "text/html": [
              "\n",
              "  <div id=\"df-8a3addab-ec16-430e-9925-0b327239f3f5\" class=\"colab-df-container\">\n",
              "    <div>\n",
              "<style scoped>\n",
              "    .dataframe tbody tr th:only-of-type {\n",
              "        vertical-align: middle;\n",
              "    }\n",
              "\n",
              "    .dataframe tbody tr th {\n",
              "        vertical-align: top;\n",
              "    }\n",
              "\n",
              "    .dataframe thead th {\n",
              "        text-align: right;\n",
              "    }\n",
              "</style>\n",
              "<table border=\"1\" class=\"dataframe\">\n",
              "  <thead>\n",
              "    <tr style=\"text-align: right;\">\n",
              "      <th></th>\n",
              "      <th>Id</th>\n",
              "      <th>MSSubClass</th>\n",
              "      <th>MSZoning</th>\n",
              "      <th>LotFrontage</th>\n",
              "      <th>LotArea</th>\n",
              "      <th>Street</th>\n",
              "      <th>Alley</th>\n",
              "      <th>LotShape</th>\n",
              "      <th>LandContour</th>\n",
              "      <th>Utilities</th>\n",
              "      <th>...</th>\n",
              "      <th>PoolArea</th>\n",
              "      <th>PoolQC</th>\n",
              "      <th>Fence</th>\n",
              "      <th>MiscFeature</th>\n",
              "      <th>MiscVal</th>\n",
              "      <th>MoSold</th>\n",
              "      <th>YrSold</th>\n",
              "      <th>SaleType</th>\n",
              "      <th>SaleCondition</th>\n",
              "      <th>SalePrice</th>\n",
              "    </tr>\n",
              "  </thead>\n",
              "  <tbody>\n",
              "    <tr>\n",
              "      <th>0</th>\n",
              "      <td>1</td>\n",
              "      <td>60</td>\n",
              "      <td>RL</td>\n",
              "      <td>65.0</td>\n",
              "      <td>8450</td>\n",
              "      <td>Pave</td>\n",
              "      <td>NaN</td>\n",
              "      <td>Reg</td>\n",
              "      <td>Lvl</td>\n",
              "      <td>AllPub</td>\n",
              "      <td>...</td>\n",
              "      <td>0</td>\n",
              "      <td>NaN</td>\n",
              "      <td>NaN</td>\n",
              "      <td>NaN</td>\n",
              "      <td>0</td>\n",
              "      <td>2</td>\n",
              "      <td>2008</td>\n",
              "      <td>WD</td>\n",
              "      <td>Normal</td>\n",
              "      <td>208500</td>\n",
              "    </tr>\n",
              "    <tr>\n",
              "      <th>1</th>\n",
              "      <td>2</td>\n",
              "      <td>20</td>\n",
              "      <td>RL</td>\n",
              "      <td>80.0</td>\n",
              "      <td>9600</td>\n",
              "      <td>Pave</td>\n",
              "      <td>NaN</td>\n",
              "      <td>Reg</td>\n",
              "      <td>Lvl</td>\n",
              "      <td>AllPub</td>\n",
              "      <td>...</td>\n",
              "      <td>0</td>\n",
              "      <td>NaN</td>\n",
              "      <td>NaN</td>\n",
              "      <td>NaN</td>\n",
              "      <td>0</td>\n",
              "      <td>5</td>\n",
              "      <td>2007</td>\n",
              "      <td>WD</td>\n",
              "      <td>Normal</td>\n",
              "      <td>181500</td>\n",
              "    </tr>\n",
              "    <tr>\n",
              "      <th>2</th>\n",
              "      <td>3</td>\n",
              "      <td>60</td>\n",
              "      <td>RL</td>\n",
              "      <td>68.0</td>\n",
              "      <td>11250</td>\n",
              "      <td>Pave</td>\n",
              "      <td>NaN</td>\n",
              "      <td>IR1</td>\n",
              "      <td>Lvl</td>\n",
              "      <td>AllPub</td>\n",
              "      <td>...</td>\n",
              "      <td>0</td>\n",
              "      <td>NaN</td>\n",
              "      <td>NaN</td>\n",
              "      <td>NaN</td>\n",
              "      <td>0</td>\n",
              "      <td>9</td>\n",
              "      <td>2008</td>\n",
              "      <td>WD</td>\n",
              "      <td>Normal</td>\n",
              "      <td>223500</td>\n",
              "    </tr>\n",
              "    <tr>\n",
              "      <th>3</th>\n",
              "      <td>4</td>\n",
              "      <td>70</td>\n",
              "      <td>RL</td>\n",
              "      <td>60.0</td>\n",
              "      <td>9550</td>\n",
              "      <td>Pave</td>\n",
              "      <td>NaN</td>\n",
              "      <td>IR1</td>\n",
              "      <td>Lvl</td>\n",
              "      <td>AllPub</td>\n",
              "      <td>...</td>\n",
              "      <td>0</td>\n",
              "      <td>NaN</td>\n",
              "      <td>NaN</td>\n",
              "      <td>NaN</td>\n",
              "      <td>0</td>\n",
              "      <td>2</td>\n",
              "      <td>2006</td>\n",
              "      <td>WD</td>\n",
              "      <td>Abnorml</td>\n",
              "      <td>140000</td>\n",
              "    </tr>\n",
              "    <tr>\n",
              "      <th>4</th>\n",
              "      <td>5</td>\n",
              "      <td>60</td>\n",
              "      <td>RL</td>\n",
              "      <td>84.0</td>\n",
              "      <td>14260</td>\n",
              "      <td>Pave</td>\n",
              "      <td>NaN</td>\n",
              "      <td>IR1</td>\n",
              "      <td>Lvl</td>\n",
              "      <td>AllPub</td>\n",
              "      <td>...</td>\n",
              "      <td>0</td>\n",
              "      <td>NaN</td>\n",
              "      <td>NaN</td>\n",
              "      <td>NaN</td>\n",
              "      <td>0</td>\n",
              "      <td>12</td>\n",
              "      <td>2008</td>\n",
              "      <td>WD</td>\n",
              "      <td>Normal</td>\n",
              "      <td>250000</td>\n",
              "    </tr>\n",
              "    <tr>\n",
              "      <th>...</th>\n",
              "      <td>...</td>\n",
              "      <td>...</td>\n",
              "      <td>...</td>\n",
              "      <td>...</td>\n",
              "      <td>...</td>\n",
              "      <td>...</td>\n",
              "      <td>...</td>\n",
              "      <td>...</td>\n",
              "      <td>...</td>\n",
              "      <td>...</td>\n",
              "      <td>...</td>\n",
              "      <td>...</td>\n",
              "      <td>...</td>\n",
              "      <td>...</td>\n",
              "      <td>...</td>\n",
              "      <td>...</td>\n",
              "      <td>...</td>\n",
              "      <td>...</td>\n",
              "      <td>...</td>\n",
              "      <td>...</td>\n",
              "      <td>...</td>\n",
              "    </tr>\n",
              "    <tr>\n",
              "      <th>1455</th>\n",
              "      <td>1456</td>\n",
              "      <td>60</td>\n",
              "      <td>RL</td>\n",
              "      <td>62.0</td>\n",
              "      <td>7917</td>\n",
              "      <td>Pave</td>\n",
              "      <td>NaN</td>\n",
              "      <td>Reg</td>\n",
              "      <td>Lvl</td>\n",
              "      <td>AllPub</td>\n",
              "      <td>...</td>\n",
              "      <td>0</td>\n",
              "      <td>NaN</td>\n",
              "      <td>NaN</td>\n",
              "      <td>NaN</td>\n",
              "      <td>0</td>\n",
              "      <td>8</td>\n",
              "      <td>2007</td>\n",
              "      <td>WD</td>\n",
              "      <td>Normal</td>\n",
              "      <td>175000</td>\n",
              "    </tr>\n",
              "    <tr>\n",
              "      <th>1456</th>\n",
              "      <td>1457</td>\n",
              "      <td>20</td>\n",
              "      <td>RL</td>\n",
              "      <td>85.0</td>\n",
              "      <td>13175</td>\n",
              "      <td>Pave</td>\n",
              "      <td>NaN</td>\n",
              "      <td>Reg</td>\n",
              "      <td>Lvl</td>\n",
              "      <td>AllPub</td>\n",
              "      <td>...</td>\n",
              "      <td>0</td>\n",
              "      <td>NaN</td>\n",
              "      <td>MnPrv</td>\n",
              "      <td>NaN</td>\n",
              "      <td>0</td>\n",
              "      <td>2</td>\n",
              "      <td>2010</td>\n",
              "      <td>WD</td>\n",
              "      <td>Normal</td>\n",
              "      <td>210000</td>\n",
              "    </tr>\n",
              "    <tr>\n",
              "      <th>1457</th>\n",
              "      <td>1458</td>\n",
              "      <td>70</td>\n",
              "      <td>RL</td>\n",
              "      <td>66.0</td>\n",
              "      <td>9042</td>\n",
              "      <td>Pave</td>\n",
              "      <td>NaN</td>\n",
              "      <td>Reg</td>\n",
              "      <td>Lvl</td>\n",
              "      <td>AllPub</td>\n",
              "      <td>...</td>\n",
              "      <td>0</td>\n",
              "      <td>NaN</td>\n",
              "      <td>GdPrv</td>\n",
              "      <td>Shed</td>\n",
              "      <td>2500</td>\n",
              "      <td>5</td>\n",
              "      <td>2010</td>\n",
              "      <td>WD</td>\n",
              "      <td>Normal</td>\n",
              "      <td>266500</td>\n",
              "    </tr>\n",
              "    <tr>\n",
              "      <th>1458</th>\n",
              "      <td>1459</td>\n",
              "      <td>20</td>\n",
              "      <td>RL</td>\n",
              "      <td>68.0</td>\n",
              "      <td>9717</td>\n",
              "      <td>Pave</td>\n",
              "      <td>NaN</td>\n",
              "      <td>Reg</td>\n",
              "      <td>Lvl</td>\n",
              "      <td>AllPub</td>\n",
              "      <td>...</td>\n",
              "      <td>0</td>\n",
              "      <td>NaN</td>\n",
              "      <td>NaN</td>\n",
              "      <td>NaN</td>\n",
              "      <td>0</td>\n",
              "      <td>4</td>\n",
              "      <td>2010</td>\n",
              "      <td>WD</td>\n",
              "      <td>Normal</td>\n",
              "      <td>142125</td>\n",
              "    </tr>\n",
              "    <tr>\n",
              "      <th>1459</th>\n",
              "      <td>1460</td>\n",
              "      <td>20</td>\n",
              "      <td>RL</td>\n",
              "      <td>75.0</td>\n",
              "      <td>9937</td>\n",
              "      <td>Pave</td>\n",
              "      <td>NaN</td>\n",
              "      <td>Reg</td>\n",
              "      <td>Lvl</td>\n",
              "      <td>AllPub</td>\n",
              "      <td>...</td>\n",
              "      <td>0</td>\n",
              "      <td>NaN</td>\n",
              "      <td>NaN</td>\n",
              "      <td>NaN</td>\n",
              "      <td>0</td>\n",
              "      <td>6</td>\n",
              "      <td>2008</td>\n",
              "      <td>WD</td>\n",
              "      <td>Normal</td>\n",
              "      <td>147500</td>\n",
              "    </tr>\n",
              "  </tbody>\n",
              "</table>\n",
              "<p>1460 rows × 81 columns</p>\n",
              "</div>\n",
              "    <div class=\"colab-df-buttons\">\n",
              "\n",
              "  <div class=\"colab-df-container\">\n",
              "    <button class=\"colab-df-convert\" onclick=\"convertToInteractive('df-8a3addab-ec16-430e-9925-0b327239f3f5')\"\n",
              "            title=\"Convert this dataframe to an interactive table.\"\n",
              "            style=\"display:none;\">\n",
              "\n",
              "  <svg xmlns=\"http://www.w3.org/2000/svg\" height=\"24px\" viewBox=\"0 -960 960 960\">\n",
              "    <path d=\"M120-120v-720h720v720H120Zm60-500h600v-160H180v160Zm220 220h160v-160H400v160Zm0 220h160v-160H400v160ZM180-400h160v-160H180v160Zm440 0h160v-160H620v160ZM180-180h160v-160H180v160Zm440 0h160v-160H620v160Z\"/>\n",
              "  </svg>\n",
              "    </button>\n",
              "\n",
              "  <style>\n",
              "    .colab-df-container {\n",
              "      display:flex;\n",
              "      gap: 12px;\n",
              "    }\n",
              "\n",
              "    .colab-df-convert {\n",
              "      background-color: #E8F0FE;\n",
              "      border: none;\n",
              "      border-radius: 50%;\n",
              "      cursor: pointer;\n",
              "      display: none;\n",
              "      fill: #1967D2;\n",
              "      height: 32px;\n",
              "      padding: 0 0 0 0;\n",
              "      width: 32px;\n",
              "    }\n",
              "\n",
              "    .colab-df-convert:hover {\n",
              "      background-color: #E2EBFA;\n",
              "      box-shadow: 0px 1px 2px rgba(60, 64, 67, 0.3), 0px 1px 3px 1px rgba(60, 64, 67, 0.15);\n",
              "      fill: #174EA6;\n",
              "    }\n",
              "\n",
              "    .colab-df-buttons div {\n",
              "      margin-bottom: 4px;\n",
              "    }\n",
              "\n",
              "    [theme=dark] .colab-df-convert {\n",
              "      background-color: #3B4455;\n",
              "      fill: #D2E3FC;\n",
              "    }\n",
              "\n",
              "    [theme=dark] .colab-df-convert:hover {\n",
              "      background-color: #434B5C;\n",
              "      box-shadow: 0px 1px 3px 1px rgba(0, 0, 0, 0.15);\n",
              "      filter: drop-shadow(0px 1px 2px rgba(0, 0, 0, 0.3));\n",
              "      fill: #FFFFFF;\n",
              "    }\n",
              "  </style>\n",
              "\n",
              "    <script>\n",
              "      const buttonEl =\n",
              "        document.querySelector('#df-8a3addab-ec16-430e-9925-0b327239f3f5 button.colab-df-convert');\n",
              "      buttonEl.style.display =\n",
              "        google.colab.kernel.accessAllowed ? 'block' : 'none';\n",
              "\n",
              "      async function convertToInteractive(key) {\n",
              "        const element = document.querySelector('#df-8a3addab-ec16-430e-9925-0b327239f3f5');\n",
              "        const dataTable =\n",
              "          await google.colab.kernel.invokeFunction('convertToInteractive',\n",
              "                                                    [key], {});\n",
              "        if (!dataTable) return;\n",
              "\n",
              "        const docLinkHtml = 'Like what you see? Visit the ' +\n",
              "          '<a target=\"_blank\" href=https://colab.research.google.com/notebooks/data_table.ipynb>data table notebook</a>'\n",
              "          + ' to learn more about interactive tables.';\n",
              "        element.innerHTML = '';\n",
              "        dataTable['output_type'] = 'display_data';\n",
              "        await google.colab.output.renderOutput(dataTable, element);\n",
              "        const docLink = document.createElement('div');\n",
              "        docLink.innerHTML = docLinkHtml;\n",
              "        element.appendChild(docLink);\n",
              "      }\n",
              "    </script>\n",
              "  </div>\n",
              "\n",
              "\n",
              "<div id=\"df-a4f9bd39-539a-4161-8c25-b0fbb62d47d2\">\n",
              "  <button class=\"colab-df-quickchart\" onclick=\"quickchart('df-a4f9bd39-539a-4161-8c25-b0fbb62d47d2')\"\n",
              "            title=\"Suggest charts\"\n",
              "            style=\"display:none;\">\n",
              "\n",
              "<svg xmlns=\"http://www.w3.org/2000/svg\" height=\"24px\"viewBox=\"0 0 24 24\"\n",
              "     width=\"24px\">\n",
              "    <g>\n",
              "        <path d=\"M19 3H5c-1.1 0-2 .9-2 2v14c0 1.1.9 2 2 2h14c1.1 0 2-.9 2-2V5c0-1.1-.9-2-2-2zM9 17H7v-7h2v7zm4 0h-2V7h2v10zm4 0h-2v-4h2v4z\"/>\n",
              "    </g>\n",
              "</svg>\n",
              "  </button>\n",
              "\n",
              "<style>\n",
              "  .colab-df-quickchart {\n",
              "      --bg-color: #E8F0FE;\n",
              "      --fill-color: #1967D2;\n",
              "      --hover-bg-color: #E2EBFA;\n",
              "      --hover-fill-color: #174EA6;\n",
              "      --disabled-fill-color: #AAA;\n",
              "      --disabled-bg-color: #DDD;\n",
              "  }\n",
              "\n",
              "  [theme=dark] .colab-df-quickchart {\n",
              "      --bg-color: #3B4455;\n",
              "      --fill-color: #D2E3FC;\n",
              "      --hover-bg-color: #434B5C;\n",
              "      --hover-fill-color: #FFFFFF;\n",
              "      --disabled-bg-color: #3B4455;\n",
              "      --disabled-fill-color: #666;\n",
              "  }\n",
              "\n",
              "  .colab-df-quickchart {\n",
              "    background-color: var(--bg-color);\n",
              "    border: none;\n",
              "    border-radius: 50%;\n",
              "    cursor: pointer;\n",
              "    display: none;\n",
              "    fill: var(--fill-color);\n",
              "    height: 32px;\n",
              "    padding: 0;\n",
              "    width: 32px;\n",
              "  }\n",
              "\n",
              "  .colab-df-quickchart:hover {\n",
              "    background-color: var(--hover-bg-color);\n",
              "    box-shadow: 0 1px 2px rgba(60, 64, 67, 0.3), 0 1px 3px 1px rgba(60, 64, 67, 0.15);\n",
              "    fill: var(--button-hover-fill-color);\n",
              "  }\n",
              "\n",
              "  .colab-df-quickchart-complete:disabled,\n",
              "  .colab-df-quickchart-complete:disabled:hover {\n",
              "    background-color: var(--disabled-bg-color);\n",
              "    fill: var(--disabled-fill-color);\n",
              "    box-shadow: none;\n",
              "  }\n",
              "\n",
              "  .colab-df-spinner {\n",
              "    border: 2px solid var(--fill-color);\n",
              "    border-color: transparent;\n",
              "    border-bottom-color: var(--fill-color);\n",
              "    animation:\n",
              "      spin 1s steps(1) infinite;\n",
              "  }\n",
              "\n",
              "  @keyframes spin {\n",
              "    0% {\n",
              "      border-color: transparent;\n",
              "      border-bottom-color: var(--fill-color);\n",
              "      border-left-color: var(--fill-color);\n",
              "    }\n",
              "    20% {\n",
              "      border-color: transparent;\n",
              "      border-left-color: var(--fill-color);\n",
              "      border-top-color: var(--fill-color);\n",
              "    }\n",
              "    30% {\n",
              "      border-color: transparent;\n",
              "      border-left-color: var(--fill-color);\n",
              "      border-top-color: var(--fill-color);\n",
              "      border-right-color: var(--fill-color);\n",
              "    }\n",
              "    40% {\n",
              "      border-color: transparent;\n",
              "      border-right-color: var(--fill-color);\n",
              "      border-top-color: var(--fill-color);\n",
              "    }\n",
              "    60% {\n",
              "      border-color: transparent;\n",
              "      border-right-color: var(--fill-color);\n",
              "    }\n",
              "    80% {\n",
              "      border-color: transparent;\n",
              "      border-right-color: var(--fill-color);\n",
              "      border-bottom-color: var(--fill-color);\n",
              "    }\n",
              "    90% {\n",
              "      border-color: transparent;\n",
              "      border-bottom-color: var(--fill-color);\n",
              "    }\n",
              "  }\n",
              "</style>\n",
              "\n",
              "  <script>\n",
              "    async function quickchart(key) {\n",
              "      const quickchartButtonEl =\n",
              "        document.querySelector('#' + key + ' button');\n",
              "      quickchartButtonEl.disabled = true;  // To prevent multiple clicks.\n",
              "      quickchartButtonEl.classList.add('colab-df-spinner');\n",
              "      try {\n",
              "        const charts = await google.colab.kernel.invokeFunction(\n",
              "            'suggestCharts', [key], {});\n",
              "      } catch (error) {\n",
              "        console.error('Error during call to suggestCharts:', error);\n",
              "      }\n",
              "      quickchartButtonEl.classList.remove('colab-df-spinner');\n",
              "      quickchartButtonEl.classList.add('colab-df-quickchart-complete');\n",
              "    }\n",
              "    (() => {\n",
              "      let quickchartButtonEl =\n",
              "        document.querySelector('#df-a4f9bd39-539a-4161-8c25-b0fbb62d47d2 button');\n",
              "      quickchartButtonEl.style.display =\n",
              "        google.colab.kernel.accessAllowed ? 'block' : 'none';\n",
              "    })();\n",
              "  </script>\n",
              "</div>\n",
              "\n",
              "  <div id=\"id_fd96d30b-d769-4c45-b32b-3386418136da\">\n",
              "    <style>\n",
              "      .colab-df-generate {\n",
              "        background-color: #E8F0FE;\n",
              "        border: none;\n",
              "        border-radius: 50%;\n",
              "        cursor: pointer;\n",
              "        display: none;\n",
              "        fill: #1967D2;\n",
              "        height: 32px;\n",
              "        padding: 0 0 0 0;\n",
              "        width: 32px;\n",
              "      }\n",
              "\n",
              "      .colab-df-generate:hover {\n",
              "        background-color: #E2EBFA;\n",
              "        box-shadow: 0px 1px 2px rgba(60, 64, 67, 0.3), 0px 1px 3px 1px rgba(60, 64, 67, 0.15);\n",
              "        fill: #174EA6;\n",
              "      }\n",
              "\n",
              "      [theme=dark] .colab-df-generate {\n",
              "        background-color: #3B4455;\n",
              "        fill: #D2E3FC;\n",
              "      }\n",
              "\n",
              "      [theme=dark] .colab-df-generate:hover {\n",
              "        background-color: #434B5C;\n",
              "        box-shadow: 0px 1px 3px 1px rgba(0, 0, 0, 0.15);\n",
              "        filter: drop-shadow(0px 1px 2px rgba(0, 0, 0, 0.3));\n",
              "        fill: #FFFFFF;\n",
              "      }\n",
              "    </style>\n",
              "    <button class=\"colab-df-generate\" onclick=\"generateWithVariable('df')\"\n",
              "            title=\"Generate code using this dataframe.\"\n",
              "            style=\"display:none;\">\n",
              "\n",
              "  <svg xmlns=\"http://www.w3.org/2000/svg\" height=\"24px\"viewBox=\"0 0 24 24\"\n",
              "       width=\"24px\">\n",
              "    <path d=\"M7,19H8.4L18.45,9,17,7.55,7,17.6ZM5,21V16.75L18.45,3.32a2,2,0,0,1,2.83,0l1.4,1.43a1.91,1.91,0,0,1,.58,1.4,1.91,1.91,0,0,1-.58,1.4L9.25,21ZM18.45,9,17,7.55Zm-12,3A5.31,5.31,0,0,0,4.9,8.1,5.31,5.31,0,0,0,1,6.5,5.31,5.31,0,0,0,4.9,4.9,5.31,5.31,0,0,0,6.5,1,5.31,5.31,0,0,0,8.1,4.9,5.31,5.31,0,0,0,12,6.5,5.46,5.46,0,0,0,6.5,12Z\"/>\n",
              "  </svg>\n",
              "    </button>\n",
              "    <script>\n",
              "      (() => {\n",
              "      const buttonEl =\n",
              "        document.querySelector('#id_fd96d30b-d769-4c45-b32b-3386418136da button.colab-df-generate');\n",
              "      buttonEl.style.display =\n",
              "        google.colab.kernel.accessAllowed ? 'block' : 'none';\n",
              "\n",
              "      buttonEl.onclick = () => {\n",
              "        google.colab.notebook.generateWithVariable('df');\n",
              "      }\n",
              "      })();\n",
              "    </script>\n",
              "  </div>\n",
              "\n",
              "    </div>\n",
              "  </div>\n"
            ],
            "application/vnd.google.colaboratory.intrinsic+json": {
              "type": "dataframe",
              "variable_name": "df"
            }
          },
          "metadata": {},
          "execution_count": 3
        }
      ]
    },
    {
      "cell_type": "markdown",
      "source": [
        "### Handling missing values"
      ],
      "metadata": {
        "id": "ar62NILllyxJ"
      }
    },
    {
      "cell_type": "markdown",
      "source": [
        "Handle missing values"
      ],
      "metadata": {
        "id": "Hrmic2AnK9Yc"
      }
    },
    {
      "cell_type": "code",
      "source": [
        "# Identify non-numeric columns\n",
        "non_numeric_cols = df.select_dtypes(exclude=[np.number]).columns\n",
        "\n",
        "# Impute missing values for numeric columns with mean\n",
        "numeric_imputer = SimpleImputer(strategy='mean')\n",
        "df[df.select_dtypes(include=[np.number]).columns] = numeric_imputer.fit_transform(df.select_dtypes(include=[np.number]))\n",
        "\n",
        "# Impute missing values for non-numeric columns with most frequent value\n",
        "categorical_imputer = SimpleImputer(strategy='most_frequent')\n",
        "df[non_numeric_cols] = categorical_imputer.fit_transform(df[non_numeric_cols])\n"
      ],
      "metadata": {
        "id": "6LlEHeRIKwMw"
      },
      "execution_count": 54,
      "outputs": []
    },
    {
      "cell_type": "markdown",
      "source": [
        "### K-Fold Cross Validation"
      ],
      "metadata": {
        "id": "XZj9yfbcaRgy"
      }
    },
    {
      "cell_type": "code",
      "source": [
        "from sklearn.model_selection import StratifiedKFold\n",
        "from sklearn.model_selection import KFold\n",
        "from sklearn.linear_model import LogisticRegression\n",
        "from sklearn.metrics import mean_squared_error, r2_score\n",
        "from sklearn.preprocessing import OneHotEncoder\n",
        "folds = StratifiedKFold(n_splits=5)"
      ],
      "metadata": {
        "id": "Zoy-DMhdauTa"
      },
      "execution_count": 74,
      "outputs": []
    },
    {
      "cell_type": "code",
      "source": [
        "def Kfold_util(model,X_data,y_data):\n",
        "    s_kfold = KFold(n_splits=5)\n",
        "    model_r2_score = 0\n",
        "    model_MSE_score = 0\n",
        "    for i,(train_index,test_index) in enumerate(s_kfold.split(X_data,y_data)):\n",
        "        print(f\"fold: {i+1}\")\n",
        "        model.fit(X_data[train_index],y_data[train_index])\n",
        "        r2_score = model.score(X_data[test_index],y_data[test_index])\n",
        "        y_pred = model.predict(X_data[test_index])\n",
        "        MSE_score = mean_squared_error(y_data[test_index],y_pred)\n",
        "        print(f\"R2 score is: {r2_score} and Mean Square error is: {MSE_score}\")\n",
        "        model_r2_score += r2_score\n",
        "        model_MSE_score += MSE_score\n",
        "    return (model_r2_score/5,model_MSE_score/5)"
      ],
      "metadata": {
        "id": "zrgBzpuFk-kl"
      },
      "execution_count": 64,
      "outputs": []
    },
    {
      "cell_type": "markdown",
      "source": [
        "(iii) Use the linear regression method to estimate the slope and intercept for predicting“SalePrice” based on “LotArea”."
      ],
      "metadata": {
        "id": "9k5NlvuTGGdb"
      }
    },
    {
      "cell_type": "code",
      "source": [
        "X = df[['LotArea']]  # Predictor\n",
        "y = df['SalePrice']  # Response\n",
        "\n",
        "# Fit the linear regression model\n",
        "model = LinearRegression()\n",
        "model.fit(X, y)\n",
        "\n",
        "# Extract the slope (coefficient) and intercept\n",
        "slope = model.coef_[0]\n",
        "intercept = model.intercept_\n",
        "\n",
        "print(f\"Slope: {slope}\")\n",
        "print(f\"Intercept: {intercept}\")\n",
        "\n",
        "# Plotting the regression line with the data points\n",
        "plt.scatter(X, y, color='blue', label='Data points')\n",
        "plt.plot(X, model.predict(X), color='red', label='Regression line')\n",
        "plt.xlabel('LotArea')\n",
        "plt.ylabel('SalePrice')\n",
        "plt.title('Linear Regression: SalePrice vs LotArea')\n",
        "plt.legend()\n",
        "plt.show()"
      ],
      "metadata": {
        "colab": {
          "base_uri": "https://localhost:8080/",
          "height": 507
        },
        "id": "PlHYcGooFq3Y",
        "outputId": "fbc834f0-431b-4527-f39c-b700af02c67c"
      },
      "execution_count": 4,
      "outputs": [
        {
          "output_type": "stream",
          "name": "stdout",
          "text": [
            "Slope: 2.0999719517076745\n",
            "Intercept: 158836.1518968766\n"
          ]
        },
        {
          "output_type": "display_data",
          "data": {
            "text/plain": [
              "<Figure size 640x480 with 1 Axes>"
            ],
            "image/png": "[encoded data removed]"
          },
          "metadata": {}
        }
      ]
    },
    {
      "cell_type": "markdown",
      "source": [
        "### Models 1 to 3"
      ],
      "metadata": {
        "id": "8lEkrm36DZPk"
      }
    },
    {
      "cell_type": "markdown",
      "source": [
        "(iv) Use the multiple regression method to estimate the value of the weights/coefficients for predicting “SalePrice” based on the following features:\n",
        "a. Model 1: LotFrontage, LotArea\n",
        "b. Model 2: LotFrontage, LotArea, OverallQual, OverallCond\n",
        "c. Model 3: LotFrontage, LotArea, OverallQual, OverallCond, 1stFlrSF,GrLivArea\n",
        "\n",
        "\n",
        "(v)Calculate and compare the Mean Squared Error, R2 score for each of the model\n",
        "\n",
        "\n",
        "\n",
        "\n",
        "\n",
        "\n",
        "using the training set and test set."
      ],
      "metadata": {
        "id": "Isv2bcGKFlVq"
      }
    },
    {
      "cell_type": "code",
      "source": [
        "from sklearn.linear_model import LinearRegression\n",
        "\n",
        "# Extract the features and target variable\n",
        "X = df['LotArea'].values.reshape(-1, 1)  # Reshape to a 2D array for sklearn\n",
        "y = df['SalePrice'].values\n",
        "\n",
        "# Initialize the Linear Regression model\n",
        "model = LinearRegression()\n",
        "\n",
        "avg_r2_score,avg_MSE = Kfold_util(model,X_data=X,y_data=y)\n",
        "print(f\"Average R2 score is :- {avg_r2_score}\")\n",
        "print(f\"Average mean square error is :- {avg_MSE}\")"
      ],
      "metadata": {
        "colab": {
          "base_uri": "https://localhost:8080/"
        },
        "id": "29kVxlQYbkb5",
        "outputId": "913e6149-187a-4f6c-e771-115306d2591a"
      },
      "execution_count": 65,
      "outputs": [
        {
          "output_type": "stream",
          "name": "stdout",
          "text": [
            "fold: 1\n",
            "R2 score is: 0.0811255840664582 and Mean Square error is: 5083791990.222536\n",
            "fold: 2\n",
            "R2 score is: -0.09677051342182441 and Mean Square error is: 7206516872.48441\n",
            "fold: 3\n",
            "R2 score is: 0.09034415298115273 and Mean Square error is: 6893188266.548201\n",
            "fold: 4\n",
            "R2 score is: 0.04542629407540688 and Mean Square error is: 4835731884.893979\n",
            "fold: 5\n",
            "R2 score is: 0.06551930527251171 and Mean Square error is: 6266038369.012835\n",
            "Average R2 score is :- 0.03712896459474102\n",
            "Average mean square error is :- 6057053476.632393\n"
          ]
        }
      ]
    },
    {
      "cell_type": "code",
      "source": [
        "# Model 1: LotFrontage, LotArea\n",
        "X1 = df[['LotFrontage', 'LotArea']]\n",
        "y1 = df[['SalePrice']]\n",
        "\n",
        "model1 = LinearRegression()\n",
        "model1.fit(X1, y1)\n",
        "\n",
        "model1_r2_score,model1_MSE = Kfold_util(model1,X_data=X1.to_numpy(),y_data=y1.to_numpy())\n",
        "print(f\"Average R2 score is :- {model1_r2_score}\")\n",
        "print(f\"Average mean square error is :- {model1_MSE}\")"
      ],
      "metadata": {
        "colab": {
          "base_uri": "https://localhost:8080/"
        },
        "id": "_buMiAYzcBc9",
        "outputId": "11686fc5-c6e0-41ec-e907-aadf08321cd7"
      },
      "execution_count": 68,
      "outputs": [
        {
          "output_type": "stream",
          "name": "stdout",
          "text": [
            "fold: 1\n",
            "R2 score is: 0.18158942070731465 and Mean Square error is: 4527962772.251632\n",
            "fold: 2\n",
            "R2 score is: 0.08612808848449904 and Mean Square error is: 6004750555.409112\n",
            "fold: 3\n",
            "R2 score is: 0.13887798066492563 and Mean Square error is: 6525408723.749831\n",
            "fold: 4\n",
            "R2 score is: 0.05751921400603843 and Mean Square error is: 4774470907.216637\n",
            "fold: 5\n",
            "R2 score is: 0.09649449400924093 and Mean Square error is: 6058338282.529656\n",
            "Average R2 score is :- 0.11212183957440373\n",
            "Average mean square error is :- 5578186248.231374\n"
          ]
        }
      ]
    },
    {
      "cell_type": "code",
      "source": [
        "# Model 2: LotFrontage, LotArea, OverallQual, OverallCond\n",
        "X2 = df[['LotFrontage', 'LotArea', 'OverallQual', 'OverallCond']]\n",
        "y2 = df['SalePrice']\n",
        "\n",
        "model2 = LinearRegression()\n",
        "model2.fit(X2, y2)\n",
        "\n",
        "model2_r2_score,model2_MSE = Kfold_util(model2,X_data=X2.to_numpy(),y_data=y2.to_numpy())\n",
        "print(f\"Average R2 score is :- {model2_r2_score}\")\n",
        "print(f\"Average mean square error is :- {model2_MSE}\")"
      ],
      "metadata": {
        "colab": {
          "base_uri": "https://localhost:8080/"
        },
        "id": "On72wtEWPo3_",
        "outputId": "d15ce575-ed6a-4fc6-a069-315f524b1aab"
      },
      "execution_count": 70,
      "outputs": [
        {
          "output_type": "stream",
          "name": "stdout",
          "text": [
            "fold: 1\n",
            "R2 score is: 0.716467041536693 and Mean Square error is: 1568682899.6489449\n",
            "fold: 2\n",
            "R2 score is: 0.6652423120902687 and Mean Square error is: 2199582224.898411\n",
            "fold: 3\n",
            "R2 score is: 0.6515343206053472 and Mean Square error is: 2640602531.5727997\n",
            "fold: 4\n",
            "R2 score is: 0.6422526397267325 and Mean Square error is: 1812296217.749322\n",
            "fold: 5\n",
            "R2 score is: 0.6195504501967772 and Mean Square error is: 2551054815.7828403\n",
            "Average R2 score is :- 0.6590093528311638\n",
            "Average mean square error is :- 2154443737.9304633\n"
          ]
        }
      ]
    },
    {
      "cell_type": "code",
      "source": [
        "# Model 3: LotFrontage, LotArea, OverallQual, OverallCond, 1stFlrSF, GrLivArea\n",
        "X3 = df[['LotFrontage', 'LotArea', 'OverallQual', 'OverallCond', '1stFlrSF', 'GrLivArea']]\n",
        "y3 = df['SalePrice']\n",
        "\n",
        "model3 = LinearRegression()\n",
        "model3.fit(X3, y3)\n",
        "\n",
        "model3_r2_score,model3_MSE = Kfold_util(model3,X_data=X3.to_numpy(),y_data=y3.to_numpy())\n",
        "print(f\"Average R2 score is :- {model3_r2_score}\")\n",
        "print(f\"Average mean square error is :- {model3_MSE}\")"
      ],
      "metadata": {
        "colab": {
          "base_uri": "https://localhost:8080/"
        },
        "id": "7j48qaW6PogT",
        "outputId": "3b817154-d69e-4e80-afed-8077b53fae31"
      },
      "execution_count": 71,
      "outputs": [
        {
          "output_type": "stream",
          "name": "stdout",
          "text": [
            "fold: 1\n",
            "R2 score is: 0.7882854582090815 and Mean Square error is: 1171338186.270877\n",
            "fold: 2\n",
            "R2 score is: 0.7572940313391908 and Mean Square error is: 1594740774.6675017\n",
            "fold: 3\n",
            "R2 score is: 0.7610953326362598 and Mean Square error is: 1810371312.7248375\n",
            "fold: 4\n",
            "R2 score is: 0.7329469976794663 and Mean Square error is: 1352851760.17627\n",
            "fold: 5\n",
            "R2 score is: 0.639299163896154 and Mean Square error is: 2418632392.850892\n",
            "Average R2 score is :- 0.7357841967520304\n",
            "Average mean square error is :- 1669586885.3380754\n"
          ]
        }
      ]
    },
    {
      "cell_type": "markdown",
      "source": [
        "### Models 4 to 6"
      ],
      "metadata": {
        "id": "vS45y6S-Dh3g"
      }
    },
    {
      "cell_type": "markdown",
      "source": [
        "(vi) Use the multiple regression method to estimate the value of the\n",
        "weights/coefficients for predicting “SalePrice” based on the following set of\n",
        "mixed (numerical and categorical) features:\n",
        "a. Model 4: LotArea, Street\n",
        "b. Model 5: LotArea, OverallCond, Street, Neighborhood\n",
        "c. Model 6: LotArea, OverallCond, Street, 1stFlrSF, Neighborhood, Year"
      ],
      "metadata": {
        "id": "aYROHGggHPvd"
      }
    },
    {
      "cell_type": "code",
      "source": [
        "street_set = set(df['Street'])\n",
        "street_set"
      ],
      "metadata": {
        "colab": {
          "base_uri": "https://localhost:8080/"
        },
        "id": "R1c6gVXHfQEd",
        "outputId": "bd7f9e3f-fff9-4fdb-8f1e-84d88bbe72a4"
      },
      "execution_count": 78,
      "outputs": [
        {
          "output_type": "execute_result",
          "data": {
            "text/plain": [
              "{'Grvl', 'Pave'}"
            ]
          },
          "metadata": {},
          "execution_count": 78
        }
      ]
    },
    {
      "cell_type": "code",
      "source": [
        "# Model 4: LotArea, Street\n",
        "X4 = df[['LotArea', 'Street']]\n",
        "y4 = df['SalePrice']\n",
        "\n",
        "# One-hot encode the categorical feature 'Street'\n",
        "encoder = OneHotEncoder()\n",
        "new_df = pd.DataFrame(\n",
        "    encoder.fit_transform(df[['Street']]).toarray(),\n",
        "    columns = encoder.get_feature_names_out()\n",
        ")\n",
        "\n",
        "X4 = X4.join(new_df)\n",
        "X4 = X4.drop('Street',axis=1)\n",
        "\n",
        "model4 = LinearRegression()\n",
        "model4.fit(X4, y4)\n",
        "\n",
        "model4_avg_r2f,model4_avg_MSE = Kfold_util(model4,X_data=X4.to_numpy(),y_data=y4.to_numpy())\n",
        "print(f\"Average R2 score is :- {model4_avg_r2f}\")\n",
        "print(f\"Average mean square error is :- {model4_avg_MSE}\")"
      ],
      "metadata": {
        "colab": {
          "base_uri": "https://localhost:8080/"
        },
        "id": "EuhfRLUCUcFd",
        "outputId": "322933ba-8f74-48cc-abba-ed00230f054e"
      },
      "execution_count": 79,
      "outputs": [
        {
          "output_type": "stream",
          "name": "stdout",
          "text": [
            "fold: 1\n",
            "R2 score is: 0.08083987276169624 and Mean Square error is: 5085372725.1058655\n",
            "fold: 2\n",
            "R2 score is: -0.06216483704535136 and Mean Square error is: 6979134400.3638525\n",
            "fold: 3\n",
            "R2 score is: 0.102774623160658 and Mean Square error is: 6798992674.369186\n",
            "fold: 4\n",
            "R2 score is: 0.056929075521841566 and Mean Square error is: 4777460463.1480665\n",
            "fold: 5\n",
            "R2 score is: 0.06650223035586045 and Mean Square error is: 6259447493.116865\n",
            "Average R2 score is :- 0.04897619295094098\n",
            "Average mean square error is :- 5980081551.220767\n"
          ]
        }
      ]
    },
    {
      "cell_type": "code",
      "source": [
        "street_set1 = set(df['Neighborhood'])\n",
        "street_set1"
      ],
      "metadata": {
        "colab": {
          "base_uri": "https://localhost:8080/"
        },
        "id": "Es739hOigQN9",
        "outputId": "8fe7c599-411f-49e3-af9b-ba2a51c80ec5"
      },
      "execution_count": 80,
      "outputs": [
        {
          "output_type": "execute_result",
          "data": {
            "text/plain": [
              "{'Blmngtn',\n",
              " 'Blueste',\n",
              " 'BrDale',\n",
              " 'BrkSide',\n",
              " 'ClearCr',\n",
              " 'CollgCr',\n",
              " 'Crawfor',\n",
              " 'Edwards',\n",
              " 'Gilbert',\n",
              " 'IDOTRR',\n",
              " 'MeadowV',\n",
              " 'Mitchel',\n",
              " 'NAmes',\n",
              " 'NPkVill',\n",
              " 'NWAmes',\n",
              " 'NoRidge',\n",
              " 'NridgHt',\n",
              " 'OldTown',\n",
              " 'SWISU',\n",
              " 'Sawyer',\n",
              " 'SawyerW',\n",
              " 'Somerst',\n",
              " 'StoneBr',\n",
              " 'Timber',\n",
              " 'Veenker'}"
            ]
          },
          "metadata": {},
          "execution_count": 80
        }
      ]
    },
    {
      "cell_type": "code",
      "source": [
        "# Model 5: LotArea, OverallCond, Street, Neighborhood\n",
        "X5 = df[['LotArea', 'OverallCond', 'Street', 'Neighborhood']]\n",
        "y5 = df['SalePrice']\n",
        "\n",
        "# One-hot encode categorical features\n",
        "encoder = OneHotEncoder()\n",
        "new_df = pd.DataFrame(\n",
        "    encoder.fit_transform(df[['Street']]).toarray(),\n",
        "    columns = encoder.get_feature_names_out()\n",
        ")\n",
        "\n",
        "X5 = X5.join(new_df)\n",
        "X5 = X5.drop('Street',axis=1)\n",
        "\n",
        "encoder = OneHotEncoder()\n",
        "new_df = pd.DataFrame(\n",
        "    encoder.fit_transform(df[['Neighborhood']]).toarray(),\n",
        "    columns = encoder.get_feature_names_out()\n",
        ")\n",
        "\n",
        "X5 = X5.join(new_df)\n",
        "X5 = X5.drop('Neighborhood',axis=1)\n",
        "\n",
        "neighborhood_cols = X5.filter(regex='^Neighborhood_')\n",
        "neighborhood_cols.head()\n",
        "\n",
        "# Combine numerical and encoded categorical features\n",
        "X5 = pd.concat([X5[['LotArea', 'OverallCond', 'Street_Grvl','Street_Pave']], neighborhood_cols], axis=1)\n",
        "\n",
        "model5 = LinearRegression()\n",
        "model5.fit(X5, y5)\n",
        "\n",
        "model5_avg_r2f,model5_avg_MSE = Kfold_util(model5,X_data=X5.to_numpy(),y_data=y5.to_numpy())\n",
        "print(f\"Average R2 score is :- {model5_avg_r2f}\")\n",
        "print(f\"Average mean square error is :- {model5_avg_MSE}\")"
      ],
      "metadata": {
        "colab": {
          "base_uri": "https://localhost:8080/"
        },
        "id": "mhlXqTCSUb5d",
        "outputId": "8a4b6700-98cc-4c91-bad2-480cb5dfa9cf"
      },
      "execution_count": 86,
      "outputs": [
        {
          "output_type": "stream",
          "name": "stdout",
          "text": [
            "fold: 1\n",
            "R2 score is: 0.5841021043157792 and Mean Square error is: 2301009097.833854\n",
            "fold: 2\n",
            "R2 score is: 0.5261617473778633 and Mean Square error is: 3113434688.9909825\n",
            "fold: 3\n",
            "R2 score is: 0.5665378038610315 and Mean Square error is: 3284688966.9422917\n",
            "fold: 4\n",
            "R2 score is: 0.5250330812935398 and Mean Square error is: 2406113492.1310244\n",
            "fold: 5\n",
            "R2 score is: 0.545123175604145 and Mean Square error is: 3050117194.4170914\n",
            "Average R2 score is :- 0.5493915824904716\n",
            "Average mean square error is :- 2831072688.0630484\n"
          ]
        }
      ]
    },
    {
      "cell_type": "code",
      "source": [
        "# Model 6: LotArea, OverallCond, Street, 1stFlrSF, Neighborhood, Year\n",
        "X6 = df[['LotArea', 'OverallCond', 'Street', '1stFlrSF', 'Neighborhood', 'YearBuilt']]  # Assuming 'Year' refers to 'YearBuilt'\n",
        "y6 = df['SalePrice']\n",
        "\n",
        "# One-hot encode categorical features\n",
        "X6 = X5\n",
        "X6 = pd.concat([X6,df[['1stFlrSF','YearBuilt','YearRemodAdd','YrSold']]],axis=1)\n",
        "\n",
        "model6 = LinearRegression()\n",
        "model6.fit(X6, y6)\n",
        "\n",
        "model6_avg_r2f,model6_avg_MSE = Kfold_util(model6,X_data=X6.to_numpy(),y_data=y6.to_numpy())\n",
        "print(f\"Average R2 score is :- {model6_avg_r2f}\")\n",
        "print(f\"Average mean square error is :- {model6_avg_MSE}\")"
      ],
      "metadata": {
        "colab": {
          "base_uri": "https://localhost:8080/"
        },
        "id": "eT24SN4QUbjA",
        "outputId": "82eb31a1-2e4f-4cf7-d66d-9874ab7f4aa6"
      },
      "execution_count": 87,
      "outputs": [
        {
          "output_type": "stream",
          "name": "stdout",
          "text": [
            "fold: 1\n",
            "R2 score is: 0.7095584627129405 and Mean Square error is: 1606905508.8314323\n",
            "fold: 2\n",
            "R2 score is: 0.7138242036094097 and Mean Square error is: 1880366658.2457325\n",
            "fold: 3\n",
            "R2 score is: 0.698559378913849 and Mean Square error is: 2284256138.3426213\n",
            "fold: 4\n",
            "R2 score is: 0.6829225245459274 and Mean Square error is: 1606268482.484338\n",
            "fold: 5\n",
            "R2 score is: 0.6451907294515968 and Mean Square error is: 2379127268.740516\n",
            "Average R2 score is :- 0.6900110598467447\n",
            "Average mean square error is :- 1951384811.328928\n"
          ]
        }
      ]
    },
    {
      "cell_type": "markdown",
      "source": [
        "### compare"
      ],
      "metadata": {
        "id": "0c4nw3hfI5eD"
      }
    },
    {
      "cell_type": "markdown",
      "source": [
        "(vii) Compare the feature “LotArea” weights/coefficients for all the six trained models\n",
        "and plot a graph using the Matplotlib library."
      ],
      "metadata": {
        "id": "9QS-lHvLDq5l"
      }
    },
    {
      "cell_type": "code",
      "source": [
        "import matplotlib.pyplot as plt\n",
        "\n",
        "# Extract LotArea coefficients\n",
        "lot_area_coeffs = [\n",
        "    model1.coef_[X1.columns.get_loc('LotArea')],\n",
        "    model2.coef_[X2.columns.get_loc('LotArea')],\n",
        "    model3.coef_[X3.columns.get_loc('LotArea')],\n",
        "    model4.coef_[X4.columns.get_loc('LotArea')],\n",
        "    model5.coef_[X5.columns.get_loc('LotArea')],\n",
        "    model6.coef_[X6.columns.get_loc('LotArea')]\n",
        "]\n",
        "\n",
        "# Model names\n",
        "model_names = ['Model 1', 'Model 2', 'Model 3', 'Model 4', 'Model 5', 'Model 6']\n",
        "\n",
        "# Create bar plot\n",
        "plt.bar(model_names, lot_area_coeffs)\n",
        "plt.xlabel('Model')\n",
        "plt.ylabel('LotArea Coefficient')\n",
        "plt.title('Comparison of LotArea Coefficients Across Models')\n",
        "plt.show()\n"
      ],
      "metadata": {
        "colab": {
          "base_uri": "https://localhost:8080/",
          "height": 472
        },
        "id": "YCXlgM8mdE5P",
        "outputId": "7587e093-2717-4dff-c371-4306b8983ee1"
      },
      "execution_count": 97,
      "outputs": [
        {
          "output_type": "display_data",
          "data": {
            "text/plain": [
              "<Figure size 640x480 with 1 Axes>"
            ],
            "image/png": "[encoded data removed]"
          },
          "metadata": {}
        }
      ]
    },
    {
      "cell_type": "markdown",
      "source": [
        "(viii) Use the polynomial regression of degree 2 and 3, to estimate the value of the\n",
        "weights/coefficients for predicting “SalePrice” based on “LotArea”. Print the\n",
        "graph on the training and test set (Bonus)."
      ],
      "metadata": {
        "id": "5Xe3veD5EI0t"
      }
    },
    {
      "cell_type": "code",
      "source": [
        "from sklearn.preprocessing import PolynomialFeatures\n",
        "\n",
        "# Extract the features and target variable\n",
        "X = df['LotArea'].values.reshape(-1, 1)  # Reshape to a 2D array for sklearn\n",
        "y = df['SalePrice'].values\n",
        "\n",
        "# Split the dataset into training and testing sets (using your previous KFold split)\n",
        "X_train, X_test, y_train, y_test = X[train_index], X[test_index], y[train_index], y[test_index]\n",
        "\n",
        "# Polynomial Regression Degree 2\n",
        "poly2 = PolynomialFeatures(degree=2)\n",
        "X_train_poly2 = poly2.fit_transform(X_train)\n",
        "X_test_poly2 = poly2.transform(X_test)\n",
        "\n",
        "model_poly2 = LinearRegression()\n",
        "model_poly2.fit(X_train_poly2, y_train)\n",
        "\n",
        "print(\"\\nPolynomial Regression Degree 2 Coefficients:\")\n",
        "for i, coef in enumerate(model_poly2.coef_):\n",
        "    print(f\"Coefficient for x^{i}: {coef}\")\n",
        "\n",
        "# Polynomial Regression Degree 3\n",
        "poly3 = PolynomialFeatures(degree=3)\n",
        "X_train_poly3 = poly3.fit_transform(X_train)\n",
        "X_test_poly3 = poly3.transform(X_test)\n",
        "\n",
        "model_poly3 = LinearRegression()\n",
        "model_poly3.fit(X_train_poly3, y_train)\n",
        "\n",
        "print(\"\\nPolynomial Regression Degree 3 Coefficients:\")\n",
        "for i, coef in enumerate(model_poly3.coef_):\n",
        "    print(f\"Coefficient for x^{i}: {coef}\")\n",
        "\n",
        "# Bonus: Plot the results\n",
        "plt.figure(figsize=(12, 6))\n",
        "\n",
        "# Training set plot\n",
        "plt.subplot(1, 2, 1)\n",
        "plt.scatter(X_train, y_train, label=\"Training Data\")\n",
        "plt.plot(X_train, model_poly2.predict(X_train_poly2), color='red', label=\"Degree 2\")\n",
        "plt.plot(X_train, model_poly3.predict(X_train_poly3), color='green', label=\"Degree 3\")\n",
        "plt.xlabel(\"LotArea\")\n",
        "plt.ylabel(\"SalePrice\")\n",
        "plt.title(\"Polynomial Regression on Training Set\")\n",
        "plt.legend()\n",
        "\n",
        "# Test set plot\n",
        "plt.subplot(1, 2, 2)\n",
        "plt.scatter(X_test, y_test, label=\"Test Data\")\n",
        "plt.plot(X_test, model_poly2.predict(X_test_poly2), color='red', label=\"Degree 2\")\n",
        "plt.plot(X_test, model_poly3.predict(X_test_poly3), color='green', label=\"Degree 3\")\n",
        "plt.xlabel(\"LotArea\")\n",
        "plt.ylabel(\"SalePrice\")\n",
        "plt.title(\"Polynomial Regression on Test Set\")\n",
        "plt.legend()\n",
        "\n",
        "plt.tight_layout()\n",
        "plt.show()"
      ],
      "metadata": {
        "colab": {
          "base_uri": "https://localhost:8080/",
          "height": 633
        },
        "id": "EXWCekybdEoj",
        "outputId": "58175bef-fe25-479c-b231-3c1934401516"
      },
      "execution_count": 93,
      "outputs": [
        {
          "output_type": "stream",
          "name": "stdout",
          "text": [
            "\n",
            "Polynomial Regression Degree 2 Coefficients:\n",
            "Coefficient for x^0: 0.0\n",
            "Coefficient for x^1: 6.04694474842409\n",
            "Coefficient for x^2: -2.6928152799143845e-05\n",
            "\n",
            "Polynomial Regression Degree 3 Coefficients:\n",
            "Coefficient for x^0: 0.0\n",
            "Coefficient for x^1: 9.225924726551256\n",
            "Coefficient for x^2: -0.00010769327779915464\n",
            "Coefficient for x^3: 3.333706644070844e-10\n"
          ]
        },
        {
          "output_type": "display_data",
          "data": {
            "text/plain": [
              "<Figure size 1200x600 with 2 Axes>"
            ],
            "image/png": "[encoded data removed]"
          },
          "metadata": {}
        }
      ]
    }
  ]
}